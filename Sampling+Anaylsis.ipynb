{
 "cells": [
  {
   "cell_type": "code",
   "execution_count": 1,
   "metadata": {},
   "outputs": [
    {
     "name": "stderr",
     "output_type": "stream",
     "text": [
      "/opt/conda/envs/vcm/lib/python3.12/site-packages/xformers/ops/fmha/flash.py:211: FutureWarning: `torch.library.impl_abstract` was renamed to `torch.library.register_fake`. Please use that instead; we will remove `torch.library.impl_abstract` in a future version of PyTorch.\n",
      "  @torch.library.impl_abstract(\"xformers_flash::flash_fwd\")\n",
      "/opt/conda/envs/vcm/lib/python3.12/site-packages/xformers/ops/fmha/flash.py:344: FutureWarning: `torch.library.impl_abstract` was renamed to `torch.library.register_fake`. Please use that instead; we will remove `torch.library.impl_abstract` in a future version of PyTorch.\n",
      "  @torch.library.impl_abstract(\"xformers_flash::flash_bwd\")\n",
      "/opt/conda/envs/vcm/lib/python3.12/site-packages/generative/networks/layers/vector_quantizer.py:86: FutureWarning: `torch.cuda.amp.autocast(args...)` is deprecated. Please use `torch.amp.autocast('cuda', args...)` instead.\n",
      "  @torch.cuda.amp.autocast(enabled=False)\n",
      "/opt/conda/envs/vcm/lib/python3.12/site-packages/generative/networks/layers/vector_quantizer.py:124: FutureWarning: `torch.cuda.amp.autocast(args...)` is deprecated. Please use `torch.amp.autocast('cuda', args...)` instead.\n",
      "  @torch.cuda.amp.autocast(enabled=False)\n"
     ]
    }
   ],
   "source": [
    "import os\n",
    "gpu_idx= '3'\n",
    "os.environ[\"CUDA_VISIBLE_DEVICES\"]= gpu_idx\n",
    "import torch\n",
    "from tqdm import tqdm\n",
    "\n",
    "from generative.networks.nets import DiffusionModelUNet, AutoencoderKL, SPADEDiffusionModelUNet\n",
    "\n",
    "from config.model_config import defaultCFG\n",
    "\n",
    "import yaml\n",
    "import numpy as np\n",
    "import nibabel as nib\n",
    "\n",
    "from torch.cuda.amp import GradScaler, autocast\n",
    "from generative.networks.schedulers import DDPMScheduler, DDIMScheduler\n",
    "from monai import transforms\n",
    "\n",
    "import glob"
   ]
  },
  {
   "cell_type": "code",
   "execution_count": 2,
   "metadata": {},
   "outputs": [],
   "source": [
    "class NiftiSaver:\n",
    "    def __init__(self, output_dir: str) -> None:\n",
    "        super().__init__()\n",
    "        self.output_dir = output_dir\n",
    "        self.affine = np.array(\n",
    "            [\n",
    "                [-1.0, 0.0, 0.0, 96.48149872],\n",
    "                [0.0, 1.0, 0.0, -141.47715759],\n",
    "                [0.0, 0.0, 1.0, -156.55375671],\n",
    "                [0.0, 0.0, 0.0, 1.0],\n",
    "            ]\n",
    "        )\n",
    "        \n",
    "        self.set_output_dir(self.output_dir)\n",
    "        \n",
    "    def set_output_dir(self, output_dir):\n",
    "        self.output_dir = output_dir\n",
    "        os.makedirs(output_dir, exist_ok=True)\n",
    "        \n",
    "\n",
    "    def save(self, image_data: torch.Tensor, file_name: str, is_label=False) -> None:\n",
    "        image_data = image_data.cpu().numpy()\n",
    "        image_data = image_data[0, 0, ...]\n",
    "        if is_label:\n",
    "            image_data = image_data.astype(np.uint8)  \n",
    "        else: \n",
    "            image_data = (image_data - image_data.min()) / (image_data.max() - image_data.min())\n",
    "            image_data =  (image_data * 255).astype(np.uint8) \n",
    "\n",
    "        empty_header = nib.Nifti1Header()\n",
    "        sample_nii = nib.Nifti1Image(image_data, self.affine, empty_header)\n",
    "        nib.save(sample_nii, f\"{str(self.output_dir)}/{file_name}.nii.gz\")\n",
    "        \n",
    "    def save_label(self, img_path, file_name: str) -> None:\n",
    "        img_nib = nib.load(img_path)\n",
    "        empty_header = nib.Nifti1Header()\n",
    "        sample_nii = nib.Nifti1Image(np.array(img_nib.dataobj), self.affine, empty_header)\n",
    "        nib.save(sample_nii, f\"{str(self.output_dir)}/{file_name}.nii.gz\")"
   ]
  },
  {
   "cell_type": "code",
   "execution_count": 3,
   "metadata": {},
   "outputs": [],
   "source": [
    "cfg = defaultCFG()\n",
    "\n",
    "def load_yaml_to_dict(file_path):\n",
    "    with open(file_path, 'r') as file:\n",
    "        data = yaml.safe_load(file)\n",
    "    return data"
   ]
  },
  {
   "cell_type": "code",
   "execution_count": 4,
   "metadata": {},
   "outputs": [
    {
     "name": "stderr",
     "output_type": "stream",
     "text": [
      "/tmp/ipykernel_65987/3359844733.py:8: FutureWarning: You are using `torch.load` with `weights_only=False` (the current default value), which uses the default pickle module implicitly. It is possible to construct malicious pickle data which will execute arbitrary code during unpickling (See https://github.com/pytorch/pytorch/blob/main/SECURITY.md#untrusted-models for more details). In a future release, the default value for `weights_only` will be flipped to `True`. This limits the functions that could be executed during unpickling. Arbitrary objects will no longer be allowed to be loaded via this mode unless they are explicitly allowlisted by the user via `torch.serialization.add_safe_globals`. We recommend you start setting `weights_only=True` for any use case where you don't have full control of the loaded file. Please open an issue on GitHub for any issues related to this experimental feature.\n",
      "  autoencoder.load_state_dict(torch.load(AE_weight_path))\n"
     ]
    },
    {
     "name": "stdout",
     "output_type": "stream",
     "text": [
      "cuda setup\n",
      "\tUsing cuda: 3\n",
      "model construction, load the weights\n",
      "\t AE done\n"
     ]
    },
    {
     "name": "stderr",
     "output_type": "stream",
     "text": [
      "/tmp/ipykernel_65987/3359844733.py:14: FutureWarning: You are using `torch.load` with `weights_only=False` (the current default value), which uses the default pickle module implicitly. It is possible to construct malicious pickle data which will execute arbitrary code during unpickling (See https://github.com/pytorch/pytorch/blob/main/SECURITY.md#untrusted-models for more details). In a future release, the default value for `weights_only` will be flipped to `True`. This limits the functions that could be executed during unpickling. Arbitrary objects will no longer be allowed to be loaded via this mode unless they are explicitly allowlisted by the user via `torch.serialization.add_safe_globals`. We recommend you start setting `weights_only=True` for any use case where you don't have full control of the loaded file. Please open an issue on GitHub for any issues related to this experimental feature.\n",
      "  diffusion.load_state_dict(torch.load(Diff_weight_path))\n"
     ]
    },
    {
     "name": "stdout",
     "output_type": "stream",
     "text": [
      "\t Diffusion done\n"
     ]
    }
   ],
   "source": [
    "device = torch.device(\"cuda\" if torch.cuda.is_available() else \"cpu\")\n",
    "print('cuda setup')\n",
    "print(f\"\\tUsing {device}: {gpu_idx}\")\n",
    "\n",
    "print('model construction, load the weights')\n",
    "autoencoder = AutoencoderKL(**cfg.get_AE_CFG())\n",
    "AE_weight_path = '/root/vcm/VCM/weights/autoencoder.pth'\n",
    "autoencoder.load_state_dict(torch.load(AE_weight_path))\n",
    "autoencoder.to(device)\n",
    "print(f\"\\t AE done\")\n",
    "\n",
    "diffusion = DiffusionModelUNet(**cfg.get_DM_CFG())\n",
    "Diff_weight_path = '/root/vcm/VCM/weights/diffusion_model.pth'\n",
    "diffusion.load_state_dict(torch.load(Diff_weight_path))\n",
    "diffusion.to(device)\n",
    "print(f\"\\t Diffusion done\")\n",
    "\n"
   ]
  },
  {
   "cell_type": "code",
   "execution_count": 21,
   "metadata": {},
   "outputs": [],
   "source": [
    "# condition pairs \n",
    "\n",
    "age_min, age_max, age_mu, age_sd = 44, 82, 63.6, 7.5\n",
    "lv_min, lv_max, lv_mu, lv_sd = 6995.68, 171375, 37968, 17770.2\n",
    "brain_min, brain_max, brain_mu, brain_sd = 1144240, 1793910, 1485720, 73726.7"
   ]
  },
  {
   "cell_type": "code",
   "execution_count": 7,
   "metadata": {},
   "outputs": [
    {
     "name": "stdout",
     "output_type": "stream",
     "text": [
      "1\n"
     ]
    },
    {
     "name": "stderr",
     "output_type": "stream",
     "text": [
      "100%|██████████| 30/30 [14:48:16<00:00, 1776.55s/it]  \n"
     ]
    }
   ],
   "source": [
    "val_scheduler = DDIMScheduler(num_train_timesteps=1000, schedule=\"scaled_linear_beta\", beta_start=0.0015, beta_end=0.0205, clip_sample=False)\n",
    "val_scheduler.set_timesteps(num_inference_steps=200)\n",
    "\n",
    "scale_factor = 1\n",
    "print(scale_factor)\n",
    "\n",
    "dst_dir = f'/root/sexDiff/samples'\n",
    "saver = NiftiSaver(dst_dir)\n",
    "\n",
    "sigma_multip = [-2., -1., 0., 1., 2.]\n",
    "\n",
    "total_repeat = 30\n",
    "for iteration in tqdm(range(total_repeat)):\n",
    "\n",
    "    # cond.shape --> [1, 4]\n",
    "    \n",
    "    for age_coef in sigma_multip:\n",
    "        for lv_coef in sigma_multip:\n",
    "            for brain_coef in sigma_multip:\n",
    "                # we define three cond values for age, LV and brain. \n",
    "                cond_label = f'Cond-A{age_coef}_LV{lv_coef}_brain{brain_coef}'\n",
    "                os.makedirs(f'{dst_dir}/{cond_label}', exist_ok=True)\n",
    "                \n",
    "                age_val = age_mu + age_coef* age_sd\n",
    "                lv_val = lv_mu + lv_coef* lv_sd\n",
    "                brain_val = brain_mu + brain_coef* brain_sd\n",
    "                \n",
    "                age_val = (age_val - age_min) / (age_max - age_min)\n",
    "                lv_val = (lv_val - lv_min) / (lv_max - lv_min)\n",
    "                brain_val = (brain_val - brain_min) / (brain_max - brain_min)\n",
    "                \n",
    "                # sex-age-ventV-brainV\n",
    "                cond_man = torch.tensor([0., age_val, lv_val, brain_val], device=device, dtype=torch.float32).view(1, 1, 4)\n",
    "                cond_woman = torch.tensor([1., age_val, lv_val, brain_val], device=device, dtype=torch.float32).view(1, 1, 4)\n",
    "\n",
    "                val_BZ = 1 \n",
    "                noise = torch.randn((val_BZ, 3, 20, 28, 20))\n",
    "                noise = noise.to(device)\n",
    "\n",
    "                image_man = noise\n",
    "                image_woman = noise.detach().clone()\n",
    "\n",
    "                man_cond_concat = cond_man.view(val_BZ, 4, 1, 1, 1).to(device)\n",
    "                man_cond_concat = man_cond_concat.expand(list(man_cond_concat.shape[0:2]) + list(image_man.shape[2:]))\n",
    "                \n",
    "                woman_cond_concat = cond_woman.view(val_BZ, 4, 1, 1, 1).to(device)\n",
    "                woman_cond_concat = woman_cond_concat.expand(list(woman_cond_concat.shape[0:2]) + list(image_man.shape[2:]))\n",
    "\n",
    "                with torch.no_grad():\n",
    "                        progress_bar = val_scheduler.timesteps\n",
    "                        for t in progress_bar:\n",
    "                            # MAN sampling\n",
    "                            timesteps = torch.Tensor((t,)).to(device).long()\n",
    "                            ldm_out = diffusion(torch.cat((image_man, man_cond_concat), dim=1),\n",
    "                                                    timesteps=timesteps,\n",
    "                                                    context=cond_man,)\n",
    "                            image_man, _ = val_scheduler.step(ldm_out, t, image_man)\n",
    "                            \n",
    "                            # WOMAN sampling\n",
    "                            timesteps = torch.Tensor((t,)).to(device).long()\n",
    "                            ldm_out = diffusion(torch.cat((image_woman, woman_cond_concat), dim=1),\n",
    "                                                    timesteps=timesteps,\n",
    "                                                    context=cond_woman,)\n",
    "                            image_woman, _ = val_scheduler.step(ldm_out, t, image_woman)\n",
    "                        \n",
    "                        # decode to MRI\n",
    "                        man_sample = autoencoder.decode_stage_2_outputs(image_man.to(device)/scale_factor)\n",
    "                        woman_sample = autoencoder.decode_stage_2_outputs(image_woman.to(device)/scale_factor)\n",
    "                saver.save(man_sample, f'{cond_label}/MAN-{iteration}')\n",
    "                saver.save(woman_sample, f'{cond_label}/WOMAN-{iteration}')"
   ]
  },
  {
   "cell_type": "code",
   "execution_count": null,
   "metadata": {},
   "outputs": [],
   "source": [
    "# run the following code sinpet or mp_synthseg.py file for performing segmentation with SynthSeg\n",
    "!python -m /root/sexDiff/mp_synthseg.py"
   ]
  },
  {
   "cell_type": "code",
   "execution_count": 27,
   "metadata": {},
   "outputs": [],
   "source": [
    "\n",
    "import os \n",
    "import glob\n",
    "import shutil\n",
    "from tqdm import tqdm "
   ]
  },
  {
   "cell_type": "code",
   "execution_count": 24,
   "metadata": {},
   "outputs": [],
   "source": [
    "dst_dir = '/root/sexDiff/seg_vol'"
   ]
  },
  {
   "cell_type": "code",
   "execution_count": null,
   "metadata": {},
   "outputs": [
    {
     "name": "stderr",
     "output_type": "stream",
     "text": [
      "100%|██████████| 125/125 [00:00<00:00, 6620.13it/s]\n"
     ]
    }
   ],
   "source": [
    "csv_files = glob.glob('/root/sexDiff/samples/*/vol.csv')\n",
    "\n",
    "for one in tqdm(csv_files):\n",
    "    dir_path = os.path.dirname(one)\n",
    "    post = dir_path.split('Cond-')[1]\n",
    "    age, lv, brain = post.split('_')\n",
    "    age_cond = age.split('A')[1]\n",
    "    lv_cond = lv.split('LV')[1]\n",
    "    brain_cond = brain.split('brain')[1]\n",
    "    \n",
    "    age_val = age_mu + float(age_cond) * age_sd\n",
    "    lv_val = lv_mu + float(lv_cond) * lv_sd\n",
    "    brain_val = brain_mu + float(brain_cond) * brain_sd\n",
    "    \n",
    "    shutil.copy(one, f'{dst_dir}/{age_val}-{lv_val}-{brain_val}.csv')"
   ]
  },
  {
   "cell_type": "code",
   "execution_count": 37,
   "metadata": {},
   "outputs": [
    {
     "name": "stderr",
     "output_type": "stream",
     "text": [
      "  0%|          | 0/125 [00:00<?, ?it/s]"
     ]
    },
    {
     "name": "stdout",
     "output_type": "stream",
     "text": [
      "\n",
      "Processing file: 78.6-37968.0-1559446.7.csv\n"
     ]
    },
    {
     "name": "stderr",
     "output_type": "stream",
     "text": [
      "  1%|          | 1/125 [00:00<01:17,  1.61it/s]"
     ]
    },
    {
     "name": "stdout",
     "output_type": "stream",
     "text": [
      "\n",
      "Processing file: 63.6-20197.8-1411993.3.csv\n"
     ]
    },
    {
     "name": "stderr",
     "output_type": "stream",
     "text": [
      "  2%|▏         | 2/125 [00:01<01:16,  1.61it/s]"
     ]
    },
    {
     "name": "stdout",
     "output_type": "stream",
     "text": [
      "\n",
      "Processing file: 56.1-20197.8-1338266.6.csv\n"
     ]
    },
    {
     "name": "stderr",
     "output_type": "stream",
     "text": [
      "  2%|▏         | 3/125 [00:01<01:15,  1.61it/s]"
     ]
    },
    {
     "name": "stdout",
     "output_type": "stream",
     "text": [
      "\n",
      "Processing file: 56.1-37968.0-1485720.0.csv\n"
     ]
    },
    {
     "name": "stderr",
     "output_type": "stream",
     "text": [
      "  3%|▎         | 4/125 [00:04<02:59,  1.48s/it]"
     ]
    },
    {
     "name": "stdout",
     "output_type": "stream",
     "text": [
      "\n",
      "Processing file: 48.6-2427.5999999999985-1559446.7.csv\n"
     ]
    },
    {
     "name": "stderr",
     "output_type": "stream",
     "text": [
      "  4%|▍         | 5/125 [00:05<02:20,  1.17s/it]"
     ]
    },
    {
     "name": "stdout",
     "output_type": "stream",
     "text": [
      "\n",
      "Processing file: 78.6-55738.2-1485720.0.csv\n"
     ]
    },
    {
     "name": "stderr",
     "output_type": "stream",
     "text": [
      "  5%|▍         | 6/125 [00:05<01:57,  1.02it/s]"
     ]
    },
    {
     "name": "stdout",
     "output_type": "stream",
     "text": [
      "\n",
      "Processing file: 71.1-37968.0-1559446.7.csv\n"
     ]
    },
    {
     "name": "stderr",
     "output_type": "stream",
     "text": [
      "  6%|▌         | 7/125 [00:06<01:42,  1.16it/s]"
     ]
    },
    {
     "name": "stdout",
     "output_type": "stream",
     "text": [
      "\n",
      "Processing file: 71.1-20197.8-1411993.3.csv\n"
     ]
    },
    {
     "name": "stderr",
     "output_type": "stream",
     "text": [
      "  6%|▋         | 8/125 [00:07<01:31,  1.27it/s]"
     ]
    },
    {
     "name": "stdout",
     "output_type": "stream",
     "text": [
      "\n",
      "Processing file: 71.1-73508.4-1485720.0.csv\n"
     ]
    },
    {
     "name": "stderr",
     "output_type": "stream",
     "text": [
      "  7%|▋         | 9/125 [00:07<01:24,  1.36it/s]"
     ]
    },
    {
     "name": "stdout",
     "output_type": "stream",
     "text": [
      "\n",
      "Processing file: 63.6-55738.2-1338266.6.csv\n"
     ]
    },
    {
     "name": "stderr",
     "output_type": "stream",
     "text": [
      "  8%|▊         | 10/125 [00:08<01:20,  1.43it/s]"
     ]
    },
    {
     "name": "stdout",
     "output_type": "stream",
     "text": [
      "\n",
      "Processing file: 48.6-37968.0-1633173.4.csv\n"
     ]
    },
    {
     "name": "stderr",
     "output_type": "stream",
     "text": [
      "  9%|▉         | 11/125 [00:09<01:17,  1.47it/s]"
     ]
    },
    {
     "name": "stdout",
     "output_type": "stream",
     "text": [
      "\n",
      "Processing file: 48.6-2427.5999999999985-1485720.0.csv\n"
     ]
    },
    {
     "name": "stderr",
     "output_type": "stream",
     "text": [
      " 10%|▉         | 12/125 [00:09<01:14,  1.52it/s]"
     ]
    },
    {
     "name": "stdout",
     "output_type": "stream",
     "text": [
      "\n",
      "Processing file: 63.6-20197.8-1633173.4.csv\n"
     ]
    },
    {
     "name": "stderr",
     "output_type": "stream",
     "text": [
      " 10%|█         | 13/125 [00:10<01:22,  1.35it/s]"
     ]
    },
    {
     "name": "stdout",
     "output_type": "stream",
     "text": [
      "\n",
      "Processing file: 78.6-55738.2-1338266.6.csv\n"
     ]
    },
    {
     "name": "stderr",
     "output_type": "stream",
     "text": [
      " 11%|█         | 14/125 [00:11<01:18,  1.42it/s]"
     ]
    },
    {
     "name": "stdout",
     "output_type": "stream",
     "text": [
      "\n",
      "Processing file: 63.6-37968.0-1559446.7.csv\n"
     ]
    },
    {
     "name": "stderr",
     "output_type": "stream",
     "text": [
      " 12%|█▏        | 15/125 [00:11<01:14,  1.47it/s]"
     ]
    },
    {
     "name": "stdout",
     "output_type": "stream",
     "text": [
      "\n",
      "Processing file: 78.6-37968.0-1633173.4.csv\n"
     ]
    },
    {
     "name": "stderr",
     "output_type": "stream",
     "text": [
      " 13%|█▎        | 16/125 [00:12<01:12,  1.51it/s]"
     ]
    },
    {
     "name": "stdout",
     "output_type": "stream",
     "text": [
      "\n",
      "Processing file: 71.1-37968.0-1485720.0.csv\n"
     ]
    },
    {
     "name": "stderr",
     "output_type": "stream",
     "text": [
      " 14%|█▎        | 17/125 [00:13<01:10,  1.54it/s]"
     ]
    },
    {
     "name": "stdout",
     "output_type": "stream",
     "text": [
      "\n",
      "Processing file: 48.6-37968.0-1338266.6.csv\n"
     ]
    },
    {
     "name": "stderr",
     "output_type": "stream",
     "text": [
      " 14%|█▍        | 18/125 [00:13<01:08,  1.55it/s]"
     ]
    },
    {
     "name": "stdout",
     "output_type": "stream",
     "text": [
      "\n",
      "Processing file: 78.6-2427.5999999999985-1633173.4.csv\n"
     ]
    },
    {
     "name": "stderr",
     "output_type": "stream",
     "text": [
      " 15%|█▌        | 19/125 [00:14<01:07,  1.56it/s]"
     ]
    },
    {
     "name": "stdout",
     "output_type": "stream",
     "text": [
      "\n",
      "Processing file: 48.6-2427.5999999999985-1338266.6.csv\n"
     ]
    },
    {
     "name": "stderr",
     "output_type": "stream",
     "text": [
      " 16%|█▌        | 20/125 [00:14<01:06,  1.59it/s]"
     ]
    },
    {
     "name": "stdout",
     "output_type": "stream",
     "text": [
      "\n",
      "Processing file: 48.6-73508.4-1559446.7.csv\n"
     ]
    },
    {
     "name": "stderr",
     "output_type": "stream",
     "text": [
      " 17%|█▋        | 21/125 [00:15<01:05,  1.60it/s]"
     ]
    },
    {
     "name": "stdout",
     "output_type": "stream",
     "text": [
      "\n",
      "Processing file: 63.6-2427.5999999999985-1559446.7.csv\n"
     ]
    },
    {
     "name": "stderr",
     "output_type": "stream",
     "text": [
      " 18%|█▊        | 22/125 [00:16<01:04,  1.60it/s]"
     ]
    },
    {
     "name": "stdout",
     "output_type": "stream",
     "text": [
      "\n",
      "Processing file: 71.1-73508.4-1559446.7.csv\n"
     ]
    },
    {
     "name": "stderr",
     "output_type": "stream",
     "text": [
      " 18%|█▊        | 23/125 [00:17<01:12,  1.40it/s]"
     ]
    },
    {
     "name": "stdout",
     "output_type": "stream",
     "text": [
      "\n",
      "Processing file: 48.6-37968.0-1411993.3.csv\n"
     ]
    },
    {
     "name": "stderr",
     "output_type": "stream",
     "text": [
      " 19%|█▉        | 24/125 [00:17<01:09,  1.46it/s]"
     ]
    },
    {
     "name": "stdout",
     "output_type": "stream",
     "text": [
      "\n",
      "Processing file: 63.6-2427.5999999999985-1411993.3.csv\n"
     ]
    },
    {
     "name": "stderr",
     "output_type": "stream",
     "text": [
      " 20%|██        | 25/125 [00:18<01:05,  1.52it/s]"
     ]
    },
    {
     "name": "stdout",
     "output_type": "stream",
     "text": [
      "\n",
      "Processing file: 63.6-2427.5999999999985-1633173.4.csv\n"
     ]
    },
    {
     "name": "stderr",
     "output_type": "stream",
     "text": [
      " 21%|██        | 26/125 [00:18<01:05,  1.52it/s]"
     ]
    },
    {
     "name": "stdout",
     "output_type": "stream",
     "text": [
      "\n",
      "Processing file: 78.6-73508.4-1633173.4.csv\n"
     ]
    },
    {
     "name": "stderr",
     "output_type": "stream",
     "text": [
      " 22%|██▏       | 27/125 [00:19<01:03,  1.55it/s]"
     ]
    },
    {
     "name": "stdout",
     "output_type": "stream",
     "text": [
      "\n",
      "Processing file: 63.6-73508.4-1559446.7.csv\n"
     ]
    },
    {
     "name": "stderr",
     "output_type": "stream",
     "text": [
      " 22%|██▏       | 28/125 [00:20<01:01,  1.57it/s]"
     ]
    },
    {
     "name": "stdout",
     "output_type": "stream",
     "text": [
      "\n",
      "Processing file: 71.1-2427.5999999999985-1485720.0.csv\n"
     ]
    },
    {
     "name": "stderr",
     "output_type": "stream",
     "text": [
      " 23%|██▎       | 29/125 [00:20<01:00,  1.59it/s]"
     ]
    },
    {
     "name": "stdout",
     "output_type": "stream",
     "text": [
      "\n",
      "Processing file: 56.1-2427.5999999999985-1411993.3.csv\n"
     ]
    },
    {
     "name": "stderr",
     "output_type": "stream",
     "text": [
      " 24%|██▍       | 30/125 [00:21<00:59,  1.61it/s]"
     ]
    },
    {
     "name": "stdout",
     "output_type": "stream",
     "text": [
      "\n",
      "Processing file: 71.1-2427.5999999999985-1338266.6.csv\n"
     ]
    },
    {
     "name": "stderr",
     "output_type": "stream",
     "text": [
      " 25%|██▍       | 31/125 [00:22<00:58,  1.60it/s]"
     ]
    },
    {
     "name": "stdout",
     "output_type": "stream",
     "text": [
      "\n",
      "Processing file: 71.1-37968.0-1633173.4.csv\n"
     ]
    },
    {
     "name": "stderr",
     "output_type": "stream",
     "text": [
      " 26%|██▌       | 32/125 [00:22<00:57,  1.60it/s]"
     ]
    },
    {
     "name": "stdout",
     "output_type": "stream",
     "text": [
      "\n",
      "Processing file: 48.6-2427.5999999999985-1633173.4.csv\n"
     ]
    },
    {
     "name": "stderr",
     "output_type": "stream",
     "text": [
      " 26%|██▋       | 33/125 [00:23<00:57,  1.59it/s]"
     ]
    },
    {
     "name": "stdout",
     "output_type": "stream",
     "text": [
      "\n",
      "Processing file: 48.6-55738.2-1559446.7.csv\n"
     ]
    },
    {
     "name": "stderr",
     "output_type": "stream",
     "text": [
      " 27%|██▋       | 34/125 [00:23<00:57,  1.59it/s]"
     ]
    },
    {
     "name": "stdout",
     "output_type": "stream",
     "text": [
      "\n",
      "Processing file: 78.6-2427.5999999999985-1411993.3.csv\n"
     ]
    },
    {
     "name": "stderr",
     "output_type": "stream",
     "text": [
      " 28%|██▊       | 35/125 [00:24<00:56,  1.60it/s]"
     ]
    },
    {
     "name": "stdout",
     "output_type": "stream",
     "text": [
      "\n",
      "Processing file: 63.6-20197.8-1485720.0.csv\n"
     ]
    },
    {
     "name": "stderr",
     "output_type": "stream",
     "text": [
      " 29%|██▉       | 36/125 [00:25<01:06,  1.34it/s]"
     ]
    },
    {
     "name": "stdout",
     "output_type": "stream",
     "text": [
      "\n",
      "Processing file: 71.1-37968.0-1411993.3.csv\n"
     ]
    },
    {
     "name": "stderr",
     "output_type": "stream",
     "text": [
      " 30%|██▉       | 37/125 [00:26<01:02,  1.42it/s]"
     ]
    },
    {
     "name": "stdout",
     "output_type": "stream",
     "text": [
      "\n",
      "Processing file: 71.1-20197.8-1485720.0.csv\n"
     ]
    },
    {
     "name": "stderr",
     "output_type": "stream",
     "text": [
      " 30%|███       | 38/125 [00:26<00:58,  1.47it/s]"
     ]
    },
    {
     "name": "stdout",
     "output_type": "stream",
     "text": [
      "\n",
      "Processing file: 71.1-20197.8-1633173.4.csv\n"
     ]
    },
    {
     "name": "stderr",
     "output_type": "stream",
     "text": [
      " 31%|███       | 39/125 [00:27<00:56,  1.51it/s]"
     ]
    },
    {
     "name": "stdout",
     "output_type": "stream",
     "text": [
      "\n",
      "Processing file: 78.6-55738.2-1411993.3.csv\n"
     ]
    },
    {
     "name": "stderr",
     "output_type": "stream",
     "text": [
      " 32%|███▏      | 40/125 [00:28<00:54,  1.55it/s]"
     ]
    },
    {
     "name": "stdout",
     "output_type": "stream",
     "text": [
      "\n",
      "Processing file: 63.6-73508.4-1411993.3.csv\n"
     ]
    },
    {
     "name": "stderr",
     "output_type": "stream",
     "text": [
      " 33%|███▎      | 41/125 [00:28<00:53,  1.57it/s]"
     ]
    },
    {
     "name": "stdout",
     "output_type": "stream",
     "text": [
      "\n",
      "Processing file: 48.6-2427.5999999999985-1411993.3.csv\n"
     ]
    },
    {
     "name": "stderr",
     "output_type": "stream",
     "text": [
      " 34%|███▎      | 42/125 [00:29<00:53,  1.56it/s]"
     ]
    },
    {
     "name": "stdout",
     "output_type": "stream",
     "text": [
      "\n",
      "Processing file: 56.1-55738.2-1633173.4.csv\n"
     ]
    },
    {
     "name": "stderr",
     "output_type": "stream",
     "text": [
      " 34%|███▍      | 43/125 [00:29<00:51,  1.58it/s]"
     ]
    },
    {
     "name": "stdout",
     "output_type": "stream",
     "text": [
      "\n",
      "Processing file: 71.1-73508.4-1411993.3.csv\n"
     ]
    },
    {
     "name": "stderr",
     "output_type": "stream",
     "text": [
      " 35%|███▌      | 44/125 [00:30<00:51,  1.59it/s]"
     ]
    },
    {
     "name": "stdout",
     "output_type": "stream",
     "text": [
      "\n",
      "Processing file: 48.6-73508.4-1338266.6.csv\n"
     ]
    },
    {
     "name": "stderr",
     "output_type": "stream",
     "text": [
      " 36%|███▌      | 45/125 [00:31<00:50,  1.60it/s]"
     ]
    },
    {
     "name": "stdout",
     "output_type": "stream",
     "text": [
      "\n",
      "Processing file: 56.1-20197.8-1411993.3.csv\n"
     ]
    },
    {
     "name": "stderr",
     "output_type": "stream",
     "text": [
      " 37%|███▋      | 46/125 [00:31<00:49,  1.60it/s]"
     ]
    },
    {
     "name": "stdout",
     "output_type": "stream",
     "text": [
      "\n",
      "Processing file: 78.6-20197.8-1485720.0.csv\n"
     ]
    },
    {
     "name": "stderr",
     "output_type": "stream",
     "text": [
      " 38%|███▊      | 47/125 [00:32<00:48,  1.61it/s]"
     ]
    },
    {
     "name": "stdout",
     "output_type": "stream",
     "text": [
      "\n",
      "Processing file: 48.6-55738.2-1411993.3.csv\n"
     ]
    },
    {
     "name": "stderr",
     "output_type": "stream",
     "text": [
      " 38%|███▊      | 48/125 [00:32<00:47,  1.62it/s]"
     ]
    },
    {
     "name": "stdout",
     "output_type": "stream",
     "text": [
      "\n",
      "Processing file: 78.6-73508.4-1338266.6.csv\n"
     ]
    },
    {
     "name": "stderr",
     "output_type": "stream",
     "text": [
      " 39%|███▉      | 49/125 [00:33<00:47,  1.61it/s]"
     ]
    },
    {
     "name": "stdout",
     "output_type": "stream",
     "text": [
      "\n",
      "Processing file: 71.1-37968.0-1338266.6.csv\n"
     ]
    },
    {
     "name": "stderr",
     "output_type": "stream",
     "text": [
      " 40%|████      | 50/125 [00:34<00:58,  1.29it/s]"
     ]
    },
    {
     "name": "stdout",
     "output_type": "stream",
     "text": [
      "\n",
      "Processing file: 48.6-20197.8-1338266.6.csv\n"
     ]
    },
    {
     "name": "stderr",
     "output_type": "stream",
     "text": [
      " 41%|████      | 51/125 [00:35<00:53,  1.37it/s]"
     ]
    },
    {
     "name": "stdout",
     "output_type": "stream",
     "text": [
      "\n",
      "Processing file: 78.6-20197.8-1338266.6.csv\n"
     ]
    },
    {
     "name": "stderr",
     "output_type": "stream",
     "text": [
      " 42%|████▏     | 52/125 [00:35<00:50,  1.44it/s]"
     ]
    },
    {
     "name": "stdout",
     "output_type": "stream",
     "text": [
      "\n",
      "Processing file: 56.1-73508.4-1633173.4.csv\n"
     ]
    },
    {
     "name": "stderr",
     "output_type": "stream",
     "text": [
      " 42%|████▏     | 53/125 [00:36<00:48,  1.49it/s]"
     ]
    },
    {
     "name": "stdout",
     "output_type": "stream",
     "text": [
      "\n",
      "Processing file: 63.6-73508.4-1485720.0.csv\n"
     ]
    },
    {
     "name": "stderr",
     "output_type": "stream",
     "text": [
      " 43%|████▎     | 54/125 [00:37<00:46,  1.53it/s]"
     ]
    },
    {
     "name": "stdout",
     "output_type": "stream",
     "text": [
      "\n",
      "Processing file: 71.1-55738.2-1338266.6.csv\n"
     ]
    },
    {
     "name": "stderr",
     "output_type": "stream",
     "text": [
      " 44%|████▍     | 55/125 [00:37<00:44,  1.56it/s]"
     ]
    },
    {
     "name": "stdout",
     "output_type": "stream",
     "text": [
      "\n",
      "Processing file: 78.6-73508.4-1411993.3.csv\n"
     ]
    },
    {
     "name": "stderr",
     "output_type": "stream",
     "text": [
      " 45%|████▍     | 56/125 [00:38<00:43,  1.58it/s]"
     ]
    },
    {
     "name": "stdout",
     "output_type": "stream",
     "text": [
      "\n",
      "Processing file: 48.6-73508.4-1633173.4.csv\n"
     ]
    },
    {
     "name": "stderr",
     "output_type": "stream",
     "text": [
      " 46%|████▌     | 57/125 [00:39<00:42,  1.59it/s]"
     ]
    },
    {
     "name": "stdout",
     "output_type": "stream",
     "text": [
      "\n",
      "Processing file: 63.6-37968.0-1633173.4.csv\n"
     ]
    },
    {
     "name": "stderr",
     "output_type": "stream",
     "text": [
      " 46%|████▋     | 58/125 [00:39<00:42,  1.59it/s]"
     ]
    },
    {
     "name": "stdout",
     "output_type": "stream",
     "text": [
      "\n",
      "Processing file: 48.6-20197.8-1485720.0.csv\n"
     ]
    },
    {
     "name": "stderr",
     "output_type": "stream",
     "text": [
      " 47%|████▋     | 59/125 [00:40<00:41,  1.60it/s]"
     ]
    },
    {
     "name": "stdout",
     "output_type": "stream",
     "text": [
      "\n",
      "Processing file: 48.6-20197.8-1633173.4.csv\n"
     ]
    },
    {
     "name": "stderr",
     "output_type": "stream",
     "text": [
      " 48%|████▊     | 60/125 [00:40<00:40,  1.59it/s]"
     ]
    },
    {
     "name": "stdout",
     "output_type": "stream",
     "text": [
      "\n",
      "Processing file: 56.1-37968.0-1559446.7.csv\n"
     ]
    },
    {
     "name": "stderr",
     "output_type": "stream",
     "text": [
      " 49%|████▉     | 61/125 [00:41<00:39,  1.60it/s]"
     ]
    },
    {
     "name": "stdout",
     "output_type": "stream",
     "text": [
      "\n",
      "Processing file: 78.6-37968.0-1411993.3.csv\n"
     ]
    },
    {
     "name": "stderr",
     "output_type": "stream",
     "text": [
      " 50%|████▉     | 62/125 [00:42<00:39,  1.61it/s]"
     ]
    },
    {
     "name": "stdout",
     "output_type": "stream",
     "text": [
      "\n",
      "Processing file: 56.1-73508.4-1485720.0.csv\n"
     ]
    },
    {
     "name": "stderr",
     "output_type": "stream",
     "text": [
      " 50%|█████     | 63/125 [00:42<00:38,  1.62it/s]"
     ]
    },
    {
     "name": "stdout",
     "output_type": "stream",
     "text": [
      "\n",
      "Processing file: 71.1-20197.8-1338266.6.csv\n"
     ]
    },
    {
     "name": "stderr",
     "output_type": "stream",
     "text": [
      " 51%|█████     | 64/125 [00:43<00:37,  1.62it/s]"
     ]
    },
    {
     "name": "stdout",
     "output_type": "stream",
     "text": [
      "\n",
      "Processing file: 63.6-37968.0-1485720.0.csv\n"
     ]
    },
    {
     "name": "stderr",
     "output_type": "stream",
     "text": [
      " 52%|█████▏    | 65/125 [00:44<00:37,  1.62it/s]"
     ]
    },
    {
     "name": "stdout",
     "output_type": "stream",
     "text": [
      "\n",
      "Processing file: 71.1-55738.2-1485720.0.csv\n"
     ]
    },
    {
     "name": "stderr",
     "output_type": "stream",
     "text": [
      " 53%|█████▎    | 66/125 [00:44<00:36,  1.62it/s]"
     ]
    },
    {
     "name": "stdout",
     "output_type": "stream",
     "text": [
      "\n",
      "Processing file: 71.1-2427.5999999999985-1411993.3.csv\n"
     ]
    },
    {
     "name": "stderr",
     "output_type": "stream",
     "text": [
      " 54%|█████▎    | 67/125 [00:45<00:35,  1.61it/s]"
     ]
    },
    {
     "name": "stdout",
     "output_type": "stream",
     "text": [
      "\n",
      "Processing file: 48.6-73508.4-1411993.3.csv\n"
     ]
    },
    {
     "name": "stderr",
     "output_type": "stream",
     "text": [
      " 54%|█████▍    | 68/125 [00:46<00:46,  1.23it/s]"
     ]
    },
    {
     "name": "stdout",
     "output_type": "stream",
     "text": [
      "\n",
      "Processing file: 56.1-55738.2-1411993.3.csv\n"
     ]
    },
    {
     "name": "stderr",
     "output_type": "stream",
     "text": [
      " 55%|█████▌    | 69/125 [00:47<00:42,  1.33it/s]"
     ]
    },
    {
     "name": "stdout",
     "output_type": "stream",
     "text": [
      "\n",
      "Processing file: 71.1-73508.4-1633173.4.csv\n"
     ]
    },
    {
     "name": "stderr",
     "output_type": "stream",
     "text": [
      " 56%|█████▌    | 70/125 [00:47<00:39,  1.41it/s]"
     ]
    },
    {
     "name": "stdout",
     "output_type": "stream",
     "text": [
      "\n",
      "Processing file: 48.6-73508.4-1485720.0.csv\n"
     ]
    },
    {
     "name": "stderr",
     "output_type": "stream",
     "text": [
      " 57%|█████▋    | 71/125 [00:48<00:36,  1.46it/s]"
     ]
    },
    {
     "name": "stdout",
     "output_type": "stream",
     "text": [
      "\n",
      "Processing file: 71.1-55738.2-1411993.3.csv\n"
     ]
    },
    {
     "name": "stderr",
     "output_type": "stream",
     "text": [
      " 58%|█████▊    | 72/125 [00:48<00:35,  1.51it/s]"
     ]
    },
    {
     "name": "stdout",
     "output_type": "stream",
     "text": [
      "\n",
      "Processing file: 78.6-20197.8-1411993.3.csv\n"
     ]
    },
    {
     "name": "stderr",
     "output_type": "stream",
     "text": [
      " 58%|█████▊    | 73/125 [00:49<00:33,  1.54it/s]"
     ]
    },
    {
     "name": "stdout",
     "output_type": "stream",
     "text": [
      "\n",
      "Processing file: 63.6-2427.5999999999985-1338266.6.csv\n"
     ]
    },
    {
     "name": "stderr",
     "output_type": "stream",
     "text": [
      " 59%|█████▉    | 74/125 [00:50<00:32,  1.57it/s]"
     ]
    },
    {
     "name": "stdout",
     "output_type": "stream",
     "text": [
      "\n",
      "Processing file: 56.1-55738.2-1338266.6.csv\n"
     ]
    },
    {
     "name": "stderr",
     "output_type": "stream",
     "text": [
      " 60%|██████    | 75/125 [00:50<00:31,  1.58it/s]"
     ]
    },
    {
     "name": "stdout",
     "output_type": "stream",
     "text": [
      "\n",
      "Processing file: 56.1-73508.4-1338266.6.csv\n"
     ]
    },
    {
     "name": "stderr",
     "output_type": "stream",
     "text": [
      " 61%|██████    | 76/125 [00:51<00:30,  1.59it/s]"
     ]
    },
    {
     "name": "stdout",
     "output_type": "stream",
     "text": [
      "\n",
      "Processing file: 63.6-37968.0-1338266.6.csv\n"
     ]
    },
    {
     "name": "stderr",
     "output_type": "stream",
     "text": [
      " 62%|██████▏   | 77/125 [00:52<00:29,  1.60it/s]"
     ]
    },
    {
     "name": "stdout",
     "output_type": "stream",
     "text": [
      "\n",
      "Processing file: 63.6-20197.8-1559446.7.csv\n"
     ]
    },
    {
     "name": "stderr",
     "output_type": "stream",
     "text": [
      " 62%|██████▏   | 78/125 [00:52<00:29,  1.61it/s]"
     ]
    },
    {
     "name": "stdout",
     "output_type": "stream",
     "text": [
      "\n",
      "Processing file: 56.1-37968.0-1411993.3.csv\n"
     ]
    },
    {
     "name": "stderr",
     "output_type": "stream",
     "text": [
      " 63%|██████▎   | 79/125 [00:53<00:28,  1.61it/s]"
     ]
    },
    {
     "name": "stdout",
     "output_type": "stream",
     "text": [
      "\n",
      "Processing file: 56.1-55738.2-1559446.7.csv\n"
     ]
    },
    {
     "name": "stderr",
     "output_type": "stream",
     "text": [
      " 64%|██████▍   | 80/125 [00:53<00:27,  1.61it/s]"
     ]
    },
    {
     "name": "stdout",
     "output_type": "stream",
     "text": [
      "\n",
      "Processing file: 48.6-55738.2-1485720.0.csv\n"
     ]
    },
    {
     "name": "stderr",
     "output_type": "stream",
     "text": [
      " 65%|██████▍   | 81/125 [00:54<00:27,  1.62it/s]"
     ]
    },
    {
     "name": "stdout",
     "output_type": "stream",
     "text": [
      "\n",
      "Processing file: 78.6-2427.5999999999985-1559446.7.csv\n"
     ]
    },
    {
     "name": "stderr",
     "output_type": "stream",
     "text": [
      " 66%|██████▌   | 82/125 [00:55<00:26,  1.61it/s]"
     ]
    },
    {
     "name": "stdout",
     "output_type": "stream",
     "text": [
      "\n",
      "Processing file: 78.6-20197.8-1559446.7.csv\n"
     ]
    },
    {
     "name": "stderr",
     "output_type": "stream",
     "text": [
      " 66%|██████▋   | 83/125 [00:55<00:26,  1.60it/s]"
     ]
    },
    {
     "name": "stdout",
     "output_type": "stream",
     "text": [
      "\n",
      "Processing file: 56.1-37968.0-1633173.4.csv\n"
     ]
    },
    {
     "name": "stderr",
     "output_type": "stream",
     "text": [
      " 67%|██████▋   | 84/125 [00:56<00:25,  1.60it/s]"
     ]
    },
    {
     "name": "stdout",
     "output_type": "stream",
     "text": [
      "\n",
      "Processing file: 78.6-37968.0-1485720.0.csv\n"
     ]
    },
    {
     "name": "stderr",
     "output_type": "stream",
     "text": [
      " 68%|██████▊   | 85/125 [00:57<00:24,  1.61it/s]"
     ]
    },
    {
     "name": "stdout",
     "output_type": "stream",
     "text": [
      "\n",
      "Processing file: 71.1-73508.4-1338266.6.csv\n"
     ]
    },
    {
     "name": "stderr",
     "output_type": "stream",
     "text": [
      " 69%|██████▉   | 86/125 [00:57<00:24,  1.61it/s]"
     ]
    },
    {
     "name": "stdout",
     "output_type": "stream",
     "text": [
      "\n",
      "Processing file: 63.6-20197.8-1338266.6.csv\n"
     ]
    },
    {
     "name": "stderr",
     "output_type": "stream",
     "text": [
      " 70%|██████▉   | 87/125 [00:58<00:23,  1.62it/s]"
     ]
    },
    {
     "name": "stdout",
     "output_type": "stream",
     "text": [
      "\n",
      "Processing file: 56.1-20197.8-1633173.4.csv\n"
     ]
    },
    {
     "name": "stderr",
     "output_type": "stream",
     "text": [
      " 70%|███████   | 88/125 [00:58<00:22,  1.62it/s]"
     ]
    },
    {
     "name": "stdout",
     "output_type": "stream",
     "text": [
      "\n",
      "Processing file: 78.6-73508.4-1485720.0.csv\n"
     ]
    },
    {
     "name": "stderr",
     "output_type": "stream",
     "text": [
      " 71%|███████   | 89/125 [01:00<00:30,  1.18it/s]"
     ]
    },
    {
     "name": "stdout",
     "output_type": "stream",
     "text": [
      "\n",
      "Processing file: 56.1-2427.5999999999985-1338266.6.csv\n"
     ]
    },
    {
     "name": "stderr",
     "output_type": "stream",
     "text": [
      " 72%|███████▏  | 90/125 [01:00<00:27,  1.28it/s]"
     ]
    },
    {
     "name": "stdout",
     "output_type": "stream",
     "text": [
      "\n",
      "Processing file: 78.6-55738.2-1559446.7.csv\n"
     ]
    },
    {
     "name": "stderr",
     "output_type": "stream",
     "text": [
      " 73%|███████▎  | 91/125 [01:01<00:24,  1.37it/s]"
     ]
    },
    {
     "name": "stdout",
     "output_type": "stream",
     "text": [
      "\n",
      "Processing file: 71.1-55738.2-1559446.7.csv\n"
     ]
    },
    {
     "name": "stderr",
     "output_type": "stream",
     "text": [
      " 74%|███████▎  | 92/125 [01:02<00:22,  1.44it/s]"
     ]
    },
    {
     "name": "stdout",
     "output_type": "stream",
     "text": [
      "\n",
      "Processing file: 63.6-37968.0-1411993.3.csv\n"
     ]
    },
    {
     "name": "stderr",
     "output_type": "stream",
     "text": [
      " 74%|███████▍  | 93/125 [01:02<00:21,  1.49it/s]"
     ]
    },
    {
     "name": "stdout",
     "output_type": "stream",
     "text": [
      "\n",
      "Processing file: 56.1-73508.4-1559446.7.csv\n"
     ]
    },
    {
     "name": "stderr",
     "output_type": "stream",
     "text": [
      " 75%|███████▌  | 94/125 [01:03<00:20,  1.53it/s]"
     ]
    },
    {
     "name": "stdout",
     "output_type": "stream",
     "text": [
      "\n",
      "Processing file: 71.1-2427.5999999999985-1559446.7.csv\n"
     ]
    },
    {
     "name": "stderr",
     "output_type": "stream",
     "text": [
      " 76%|███████▌  | 95/125 [01:03<00:19,  1.56it/s]"
     ]
    },
    {
     "name": "stdout",
     "output_type": "stream",
     "text": [
      "\n",
      "Processing file: 56.1-20197.8-1559446.7.csv\n"
     ]
    },
    {
     "name": "stderr",
     "output_type": "stream",
     "text": [
      " 77%|███████▋  | 96/125 [01:04<00:18,  1.58it/s]"
     ]
    },
    {
     "name": "stdout",
     "output_type": "stream",
     "text": [
      "\n",
      "Processing file: 71.1-20197.8-1559446.7.csv\n"
     ]
    },
    {
     "name": "stderr",
     "output_type": "stream",
     "text": [
      " 78%|███████▊  | 97/125 [01:05<00:17,  1.59it/s]"
     ]
    },
    {
     "name": "stdout",
     "output_type": "stream",
     "text": [
      "\n",
      "Processing file: 63.6-55738.2-1411993.3.csv\n"
     ]
    },
    {
     "name": "stderr",
     "output_type": "stream",
     "text": [
      " 78%|███████▊  | 98/125 [01:05<00:16,  1.60it/s]"
     ]
    },
    {
     "name": "stdout",
     "output_type": "stream",
     "text": [
      "\n",
      "Processing file: 78.6-73508.4-1559446.7.csv\n"
     ]
    },
    {
     "name": "stderr",
     "output_type": "stream",
     "text": [
      " 79%|███████▉  | 99/125 [01:06<00:16,  1.60it/s]"
     ]
    },
    {
     "name": "stdout",
     "output_type": "stream",
     "text": [
      "\n",
      "Processing file: 78.6-2427.5999999999985-1485720.0.csv\n"
     ]
    },
    {
     "name": "stderr",
     "output_type": "stream",
     "text": [
      " 80%|████████  | 100/125 [01:07<00:15,  1.61it/s]"
     ]
    },
    {
     "name": "stdout",
     "output_type": "stream",
     "text": [
      "\n",
      "Processing file: 63.6-55738.2-1559446.7.csv\n"
     ]
    },
    {
     "name": "stderr",
     "output_type": "stream",
     "text": [
      " 81%|████████  | 101/125 [01:07<00:14,  1.61it/s]"
     ]
    },
    {
     "name": "stdout",
     "output_type": "stream",
     "text": [
      "\n",
      "Processing file: 78.6-37968.0-1338266.6.csv\n"
     ]
    },
    {
     "name": "stderr",
     "output_type": "stream",
     "text": [
      " 82%|████████▏ | 102/125 [01:08<00:14,  1.62it/s]"
     ]
    },
    {
     "name": "stdout",
     "output_type": "stream",
     "text": [
      "\n",
      "Processing file: 56.1-73508.4-1411993.3.csv\n"
     ]
    },
    {
     "name": "stderr",
     "output_type": "stream",
     "text": [
      " 82%|████████▏ | 103/125 [01:08<00:13,  1.63it/s]"
     ]
    },
    {
     "name": "stdout",
     "output_type": "stream",
     "text": [
      "\n",
      "Processing file: 71.1-2427.5999999999985-1633173.4.csv\n"
     ]
    },
    {
     "name": "stderr",
     "output_type": "stream",
     "text": [
      " 83%|████████▎ | 104/125 [01:09<00:13,  1.61it/s]"
     ]
    },
    {
     "name": "stdout",
     "output_type": "stream",
     "text": [
      "\n",
      "Processing file: 56.1-20197.8-1485720.0.csv\n"
     ]
    },
    {
     "name": "stderr",
     "output_type": "stream",
     "text": [
      " 84%|████████▍ | 105/125 [01:10<00:12,  1.61it/s]"
     ]
    },
    {
     "name": "stdout",
     "output_type": "stream",
     "text": [
      "\n",
      "Processing file: 63.6-2427.5999999999985-1485720.0.csv\n"
     ]
    },
    {
     "name": "stderr",
     "output_type": "stream",
     "text": [
      " 85%|████████▍ | 106/125 [01:10<00:11,  1.61it/s]"
     ]
    },
    {
     "name": "stdout",
     "output_type": "stream",
     "text": [
      "\n",
      "Processing file: 63.6-55738.2-1633173.4.csv\n"
     ]
    },
    {
     "name": "stderr",
     "output_type": "stream",
     "text": [
      " 86%|████████▌ | 107/125 [01:11<00:11,  1.60it/s]"
     ]
    },
    {
     "name": "stdout",
     "output_type": "stream",
     "text": [
      "\n",
      "Processing file: 48.6-55738.2-1633173.4.csv\n"
     ]
    },
    {
     "name": "stderr",
     "output_type": "stream",
     "text": [
      " 86%|████████▋ | 108/125 [01:12<00:10,  1.60it/s]"
     ]
    },
    {
     "name": "stdout",
     "output_type": "stream",
     "text": [
      "\n",
      "Processing file: 48.6-20197.8-1559446.7.csv\n"
     ]
    },
    {
     "name": "stderr",
     "output_type": "stream",
     "text": [
      " 87%|████████▋ | 109/125 [01:12<00:09,  1.61it/s]"
     ]
    },
    {
     "name": "stdout",
     "output_type": "stream",
     "text": [
      "\n",
      "Processing file: 71.1-55738.2-1633173.4.csv\n"
     ]
    },
    {
     "name": "stderr",
     "output_type": "stream",
     "text": [
      " 88%|████████▊ | 110/125 [01:13<00:09,  1.61it/s]"
     ]
    },
    {
     "name": "stdout",
     "output_type": "stream",
     "text": [
      "\n",
      "Processing file: 48.6-37968.0-1485720.0.csv\n"
     ]
    },
    {
     "name": "stderr",
     "output_type": "stream",
     "text": [
      " 89%|████████▉ | 111/125 [01:13<00:08,  1.61it/s]"
     ]
    },
    {
     "name": "stdout",
     "output_type": "stream",
     "text": [
      "\n",
      "Processing file: 48.6-55738.2-1338266.6.csv\n"
     ]
    },
    {
     "name": "stderr",
     "output_type": "stream",
     "text": [
      " 90%|████████▉ | 112/125 [01:14<00:08,  1.62it/s]"
     ]
    },
    {
     "name": "stdout",
     "output_type": "stream",
     "text": [
      "\n",
      "Processing file: 78.6-2427.5999999999985-1338266.6.csv\n"
     ]
    },
    {
     "name": "stderr",
     "output_type": "stream",
     "text": [
      " 90%|█████████ | 113/125 [01:15<00:07,  1.61it/s]"
     ]
    },
    {
     "name": "stdout",
     "output_type": "stream",
     "text": [
      "\n",
      "Processing file: 56.1-55738.2-1485720.0.csv\n"
     ]
    },
    {
     "name": "stderr",
     "output_type": "stream",
     "text": [
      " 91%|█████████ | 114/125 [01:16<00:09,  1.11it/s]"
     ]
    },
    {
     "name": "stdout",
     "output_type": "stream",
     "text": [
      "\n",
      "Processing file: 56.1-2427.5999999999985-1485720.0.csv\n"
     ]
    },
    {
     "name": "stderr",
     "output_type": "stream",
     "text": [
      " 92%|█████████▏| 115/125 [01:17<00:08,  1.22it/s]"
     ]
    },
    {
     "name": "stdout",
     "output_type": "stream",
     "text": [
      "\n",
      "Processing file: 78.6-55738.2-1633173.4.csv\n"
     ]
    },
    {
     "name": "stderr",
     "output_type": "stream",
     "text": [
      " 93%|█████████▎| 116/125 [01:17<00:06,  1.32it/s]"
     ]
    },
    {
     "name": "stdout",
     "output_type": "stream",
     "text": [
      "\n",
      "Processing file: 48.6-37968.0-1559446.7.csv\n"
     ]
    },
    {
     "name": "stderr",
     "output_type": "stream",
     "text": [
      " 94%|█████████▎| 117/125 [01:18<00:05,  1.40it/s]"
     ]
    },
    {
     "name": "stdout",
     "output_type": "stream",
     "text": [
      "\n",
      "Processing file: 63.6-55738.2-1485720.0.csv\n"
     ]
    },
    {
     "name": "stderr",
     "output_type": "stream",
     "text": [
      " 94%|█████████▍| 118/125 [01:19<00:04,  1.46it/s]"
     ]
    },
    {
     "name": "stdout",
     "output_type": "stream",
     "text": [
      "\n",
      "Processing file: 56.1-2427.5999999999985-1559446.7.csv\n"
     ]
    },
    {
     "name": "stderr",
     "output_type": "stream",
     "text": [
      " 95%|█████████▌| 119/125 [01:19<00:04,  1.50it/s]"
     ]
    },
    {
     "name": "stdout",
     "output_type": "stream",
     "text": [
      "\n",
      "Processing file: 78.6-20197.8-1633173.4.csv\n"
     ]
    },
    {
     "name": "stderr",
     "output_type": "stream",
     "text": [
      " 96%|█████████▌| 120/125 [01:20<00:03,  1.53it/s]"
     ]
    },
    {
     "name": "stdout",
     "output_type": "stream",
     "text": [
      "\n",
      "Processing file: 63.6-73508.4-1338266.6.csv\n"
     ]
    },
    {
     "name": "stderr",
     "output_type": "stream",
     "text": [
      " 97%|█████████▋| 121/125 [01:20<00:02,  1.56it/s]"
     ]
    },
    {
     "name": "stdout",
     "output_type": "stream",
     "text": [
      "\n",
      "Processing file: 56.1-2427.5999999999985-1633173.4.csv\n"
     ]
    },
    {
     "name": "stderr",
     "output_type": "stream",
     "text": [
      " 98%|█████████▊| 122/125 [01:21<00:01,  1.55it/s]"
     ]
    },
    {
     "name": "stdout",
     "output_type": "stream",
     "text": [
      "\n",
      "Processing file: 56.1-37968.0-1338266.6.csv\n"
     ]
    },
    {
     "name": "stderr",
     "output_type": "stream",
     "text": [
      " 98%|█████████▊| 123/125 [01:22<00:01,  1.58it/s]"
     ]
    },
    {
     "name": "stdout",
     "output_type": "stream",
     "text": [
      "\n",
      "Processing file: 48.6-20197.8-1411993.3.csv\n"
     ]
    },
    {
     "name": "stderr",
     "output_type": "stream",
     "text": [
      " 99%|█████████▉| 124/125 [01:22<00:00,  1.59it/s]"
     ]
    },
    {
     "name": "stdout",
     "output_type": "stream",
     "text": [
      "\n",
      "Processing file: 63.6-73508.4-1633173.4.csv\n"
     ]
    },
    {
     "name": "stderr",
     "output_type": "stream",
     "text": [
      "100%|██████████| 125/125 [01:23<00:00,  1.50it/s]"
     ]
    },
    {
     "name": "stdout",
     "output_type": "stream",
     "text": [
      "\n",
      "Case 1 results saved to 'case1_results.csv'\n",
      "Case 2 results saved to 'case2_results.csv'\n"
     ]
    },
    {
     "name": "stderr",
     "output_type": "stream",
     "text": [
      "\n"
     ]
    }
   ],
   "source": [
    "import pandas as pd\n",
    "import numpy as np\n",
    "from scipy.stats import ttest_ind, shapiro, levene\n",
    "import matplotlib.pyplot as plt\n",
    "import seaborn as sns\n",
    "from statsmodels.stats.multitest import multipletests\n",
    "import glob\n",
    "import os\n",
    "\n",
    "# 1. 모든 CSV 파일 목록 가져오기\n",
    "file_list = glob.glob(\"/root/sexDiff/seg_vol/*.csv\")  # 현재 디렉토리의 모든 .csv 파일\n",
    "if not file_list:\n",
    "    raise FileNotFoundError(\"No CSV files found in the current directory!\")\n",
    "\n",
    "# 2. 결과 저장용 리스트 초기화\n",
    "case1_results_all = []  # 케이스 1 결과\n",
    "case2_results_all = []  # 케이스 2 결과\n",
    "\n",
    "# 3. 각 파일에 대해 분석 수행\n",
    "for filename in tqdm(file_list):\n",
    "    \n",
    "    # 데이터 로드\n",
    "    df = pd.read_csv(filename)\n",
    "    filename = os.path.basename(filename)\n",
    "    print(f\"\\nProcessing file: {filename}\")\n",
    "    \n",
    "    # 입력 조건 추출 (파일명에서)\n",
    "    age_input, lv_input, brain_vol_input = map(float, filename.replace(\".csv\", \"\").split(\"-\"))\n",
    "    \n",
    "    # 성별 그룹 나누기\n",
    "    df['Sex'] = df['subject'].str.split('-').str[0]\n",
    "    male_df = df[df['Sex'] == 'MAN'].copy()\n",
    "    female_df = df[df['Sex'] == 'WOMAN'].copy()\n",
    "    \n",
    "    # eTIV 정규화 함수\n",
    "    def normalize_by_etiv(df, mean_etiv):\n",
    "        normalized_df = df.copy()\n",
    "        for col in df.columns:\n",
    "            if col not in ['subject', 'Sex', 'total intracranial']:\n",
    "                normalized_df[col] = df[col] * (mean_etiv / df['total intracranial'])\n",
    "        return normalized_df\n",
    "    \n",
    "    # 전체 샘플의 eTIV 평균 계산\n",
    "    mean_etiv = df['total intracranial'].mean()\n",
    "    \n",
    "    # 정규화된 데이터프레임 생성\n",
    "    male_normalized = normalize_by_etiv(male_df, mean_etiv)\n",
    "    female_normalized = normalize_by_etiv(female_df, mean_etiv)\n",
    "    \n",
    "    # 케이스 1: eTIV 정규화 후 성별 차이 분석\n",
    "    atlas_columns = [col for col in df.columns if col not in ['subject', 'Sex', 'total intracranial']]\n",
    "    case1_results = []\n",
    "    for col in atlas_columns:\n",
    "        male_values = male_normalized[col]\n",
    "        female_values = female_normalized[col]\n",
    "        \n",
    "        # 정규성 및 등분산성 검정\n",
    "        _, p_male_norm = shapiro(male_values)\n",
    "        _, p_female_norm = shapiro(female_values)\n",
    "        _, p_levene = levene(male_values, female_values)\n",
    "        \n",
    "        # t-검정\n",
    "        t_stat, p_val = ttest_ind(male_values, female_values, equal_var=(p_levene > 0.05))\n",
    "        \n",
    "        # 효과 크기 (Cohen's d)\n",
    "        mean_male = male_values.mean()\n",
    "        mean_female = female_values.mean()\n",
    "        pooled_std = np.sqrt(((len(male_values) - 1) * male_values.var() + (len(female_values) - 1) * female_values.var()) / (len(male_values) + len(female_values) - 2))\n",
    "        cohen_d = (mean_male - mean_female) / pooled_std if pooled_std != 0 else 0\n",
    "        \n",
    "        case1_results.append({\n",
    "            'Region': col,\n",
    "            'Male Mean': mean_male,\n",
    "            'Female Mean': mean_female,\n",
    "            'T-statistic': t_stat,\n",
    "            'P-value': p_val,\n",
    "            'Cohen\\'s d': cohen_d\n",
    "        })\n",
    "    \n",
    "    # 결과 데이터프레임 생성 및 다중 비교 보정\n",
    "    case1_df = pd.DataFrame(case1_results)\n",
    "    case1_df['P-value (Bonferroni)'] = multipletests(case1_df['P-value'], alpha=0.05, method='bonferroni')[1]\n",
    "    \n",
    "    # 유의미한 결과 필터링\n",
    "    significant_case1 = case1_df[case1_df['P-value (Bonferroni)'] < 0.05]\n",
    "    num_significant = len(significant_case1)\n",
    "    \n",
    "    # 케이스 1 결과 요약 (유의미한 영역 중 상위 3개)\n",
    "    case1_summary = {\n",
    "        'File': filename,\n",
    "        'Num Significant Regions': num_significant\n",
    "    }\n",
    "    if num_significant > 0:\n",
    "        top_3 = significant_case1.nsmallest(3, 'P-value (Bonferroni)')[['Region', 'P-value (Bonferroni)', 'Cohen\\'s d']]\n",
    "        for i, row in top_3.iterrows():\n",
    "            case1_summary[f'Top {i+1} Region'] = row['Region']\n",
    "            case1_summary[f'Top {i+1} P-value'] = row['P-value (Bonferroni)']\n",
    "            case1_summary[f'Top {i+1} Cohen\\'s d'] = row['Cohen\\'s d']\n",
    "    \n",
    "    case1_results_all.append(case1_summary)\n",
    "    \n",
    "    # 케이스 2: 정규화하지 않은 경우 - 입력 조건과 합성 경향성 비교\n",
    "    ratios = {}\n",
    "    for col in atlas_columns:\n",
    "        ratios[col] = (df[col] / df['total intracranial']).mean()\n",
    "    \n",
    "    reference_values = {col: ratio * brain_vol_input for col, ratio in ratios.items()}\n",
    "    reference_values['total intracranial'] = brain_vol_input\n",
    "    # reference_values['left lateral ventricle'] = lv_input / 2\n",
    "    # reference_values['right lateral ventricle'] = lv_input / 2\n",
    "    \n",
    "    tendency_results = []\n",
    "    for col in ['total intracranial'] + atlas_columns:\n",
    "        ref_value = reference_values[col]\n",
    "        male_values = male_df[col]\n",
    "        female_values = female_df[col]\n",
    "        \n",
    "        male_deviation = ((male_values - ref_value) / ref_value * 100).mean()\n",
    "        female_deviation = ((female_values - ref_value) / ref_value * 100).mean()\n",
    "        t_stat, p_val = ttest_ind(male_values, female_values)\n",
    "        \n",
    "        tendency_results.append({\n",
    "            'Region': col,\n",
    "            'Reference Value': ref_value,\n",
    "            'Male Deviation (%)': male_deviation,\n",
    "            'Female Deviation (%)': female_deviation,\n",
    "            'T-statistic': t_stat,\n",
    "            'P-value': p_val\n",
    "        })\n",
    "    \n",
    "    tendency_df = pd.DataFrame(tendency_results)\n",
    "    \n",
    "    # 케이스 2 결과 요약 (편차 차이 상위 30개 영역)\n",
    "    tendency_df['Deviation Difference'] = tendency_df['Male Deviation (%)'] - tendency_df['Female Deviation (%)']\n",
    "    top_30_tendency = tendency_df.nlargest(30, 'Deviation Difference', keep='all')[['Region', 'Male Deviation (%)', 'Female Deviation (%)', 'P-value']]\n",
    "    \n",
    "    case2_summary = {'File': filename}\n",
    "    for i, row in top_30_tendency.iterrows():\n",
    "        case2_summary[f'Top {i+1} Tendency Region'] = row['Region']\n",
    "        case2_summary[f'Top {i+1} Male Deviation (%)'] = row['Male Deviation (%)']\n",
    "        case2_summary[f'Top {i+1} Female Deviation (%)'] = row['Female Deviation (%)']\n",
    "        case2_summary[f'Top {i+1} P-value'] = row['P-value']\n",
    "    \n",
    "    case2_results_all.append(case2_summary)\n",
    "    \n",
    "    # 시각화 1: 상위 10개 영역 Bar Plot\n",
    "    top_regions = tendency_df.nlargest(10, 'Deviation Difference', keep='all')['Region']\n",
    "    plot_data = []\n",
    "    for region in top_regions:\n",
    "        for sex, deviation in [('Male', tendency_df[tendency_df['Region'] == region]['Male Deviation (%)'].iloc[0]),\n",
    "                               ('Female', tendency_df[tendency_df['Region'] == region]['Female Deviation (%)'].iloc[0])]:\n",
    "            plot_data.append({'Region': region, 'Sex': sex, 'Deviation (%)': deviation})\n",
    "    \n",
    "    plot_df = pd.DataFrame(plot_data)\n",
    "    plt.figure(figsize=(12, 6))\n",
    "    sns.barplot(x='Region', y='Deviation (%)', hue='Sex', data=plot_df)\n",
    "    plt.title(f'Synthesis Tendency: Deviation from Reference Values (Top 10 Regions) - {filename}')\n",
    "    plt.xticks(rotation=45)\n",
    "    plt.tight_layout()\n",
    "    plt.savefig(f\"{filename.replace('.csv', '_barplot.png')}\")\n",
    "    plt.close()\n",
    "    \n",
    "    # 시각화 2: 전체 영역 Heatmap\n",
    "    heatmap_data = tendency_df[['Region', 'Male Deviation (%)', 'Female Deviation (%)']].set_index('Region')\n",
    "    heatmap_data.columns = ['Male', 'Female']\n",
    "    plt.figure(figsize=(8, 12))\n",
    "    sns.heatmap(heatmap_data, cmap='RdBu_r', center=0, annot=True, fmt='.2f', cbar_kws={'label': 'Deviation (%)'})\n",
    "    plt.title(f'Synthesis Tendency Heatmap: Deviation from Reference Values - {filename}')\n",
    "    plt.xlabel('Sex')\n",
    "    plt.ylabel('Region')\n",
    "    plt.tight_layout()\n",
    "    plt.savefig(f\"{filename.replace('.csv', '_heatmap.png')}\")\n",
    "    plt.close()\n",
    "\n",
    "# 4. 결과 저장 - 케이스 1\n",
    "case1_results_df = pd.DataFrame(case1_results_all)\n",
    "case1_results_df.to_csv(\"case1_results.csv\", index=False)\n",
    "print(\"\\nCase 1 results saved to 'case1_results.csv'\")\n",
    "\n",
    "# 5. 결과 저장 - 케이스 2\n",
    "case2_results_df = pd.DataFrame(case2_results_all)\n",
    "case2_results_df.to_csv(\"case2_results.csv\", index=False)\n",
    "print(\"Case 2 results saved to 'case2_results.csv'\")"
   ]
  },
  {
   "cell_type": "code",
   "execution_count": null,
   "metadata": {},
   "outputs": [],
   "source": []
  }
 ],
 "metadata": {
  "kernelspec": {
   "display_name": "vcm",
   "language": "python",
   "name": "python3"
  },
  "language_info": {
   "codemirror_mode": {
    "name": "ipython",
    "version": 3
   },
   "file_extension": ".py",
   "mimetype": "text/x-python",
   "name": "python",
   "nbconvert_exporter": "python",
   "pygments_lexer": "ipython3",
   "version": "3.12.9"
  }
 },
 "nbformat": 4,
 "nbformat_minor": 2
}
